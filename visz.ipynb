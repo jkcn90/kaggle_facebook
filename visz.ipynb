{
 "metadata": {
  "name": "",
  "signature": "sha256:938377057fc0d53ad509edf2056b31db0a883fb0fcaf62eac893ff1e32d93f6b"
 },
 "nbformat": 3,
 "nbformat_minor": 0,
 "worksheets": [
  {
   "cells": [
    {
     "cell_type": "code",
     "collapsed": false,
     "input": [
      "%matplotlib inline\n",
      "import pylab as plt\n",
      "\n",
      "import mpld3\n",
      "from mpld3 import plugins"
     ],
     "language": "python",
     "metadata": {},
     "outputs": [],
     "prompt_number": 1
    },
    {
     "cell_type": "code",
     "collapsed": false,
     "input": [
      "import pandas as pd\n",
      "import numpy as np\n",
      "import scipy\n",
      "import random\n",
      "from matplotlib.colors import ListedColormap\n",
      "from collections import Counter\n",
      "\n",
      "from sklearn import cross_validation\n",
      "from sklearn import ensemble\n",
      "from sklearn import tree\n",
      "from sklearn import metrics\n",
      "from sklearn import feature_extraction\n",
      "from sklearn import feature_selection\n",
      "from sklearn import grid_search\n",
      "from sklearn import decomposition\n",
      "from sklearn import svm\n",
      "from sklearn import neighbors\n",
      "from sklearn import preprocessing"
     ],
     "language": "python",
     "metadata": {},
     "outputs": [],
     "prompt_number": 18
    },
    {
     "cell_type": "heading",
     "level": 1,
     "metadata": {},
     "source": [
      "Import raw data"
     ]
    },
    {
     "cell_type": "code",
     "collapsed": true,
     "input": [
      "raw_bids = pd.read_csv('bids.csv')\n",
      "raw_training_data = pd.read_csv('train.csv')\n",
      "raw_test_data = pd.read_csv('test.csv')"
     ],
     "language": "python",
     "metadata": {},
     "outputs": [],
     "prompt_number": 3
    },
    {
     "cell_type": "heading",
     "level": 1,
     "metadata": {},
     "source": [
      "Set up bids data"
     ]
    },
    {
     "cell_type": "code",
     "collapsed": false,
     "input": [
      "training_bidder_ids = raw_training_data.bidder_id.values\n",
      "test_bidder_ids = raw_test_data.bidder_id.values"
     ],
     "language": "python",
     "metadata": {},
     "outputs": [],
     "prompt_number": 4
    },
    {
     "cell_type": "code",
     "collapsed": false,
     "input": [
      "bids = raw_bids.copy()\n",
      "\n",
      "bids['price'] = bids.groupby(['auction'])[['time']].transform(lambda x: np.array(x).argsort().argsort() + 1)\n",
      "bids['winning_bid'] = bids.groupby(['auction'])['time'].apply(lambda x: x == max(x))\n",
      "\n",
      "bidder_id_outcome_map = dict(raw_training_data[['bidder_id', 'outcome']].values)\n",
      "bids['outcome'] = bids['bidder_id'].apply(lambda x: bidder_id_outcome_map.get(x, -1))\n",
      "\n",
      "bidder_id_codes_map = bids.bidder_id.unique()\n",
      "bidder_id_codes_map = {this_id: i for i, this_id in enumerate(bidder_id_codes_map)}\n",
      "\n",
      "bids.loc[:,'bidder_id_code'] = bids['bidder_id'].apply(lambda x: bidder_id_codes_map[x])"
     ],
     "language": "python",
     "metadata": {},
     "outputs": [],
     "prompt_number": 5
    },
    {
     "cell_type": "code",
     "collapsed": false,
     "input": [
      "time_group_1_min = 9631916842105263\n",
      "time_group_1_max = 9645558894736842\n",
      "\n",
      "time_group_2_min = 9695580000000000\n",
      "time_group_2_max = 9709222052631578\n",
      "\n",
      "time_group_3_min = 9759243157894736\n",
      "time_group_3_max = 9772885210526315\n",
      "\n",
      "bids['time_group'] = bids.time.apply(lambda x: (0 if x >= time_group_1_min and x <= time_group_1_max else\n",
      "                                                1 if x >= time_group_2_min and x <= time_group_2_max else\n",
      "                                                2))\n",
      "\n",
      "bids['time_group_1'] = bids.time.apply(lambda x: 1 if x >= time_group_1_min and x <= time_group_1_max else 0)\n",
      "bids['time_group_2'] = bids.time.apply(lambda x: 1 if x >= time_group_2_min and x <= time_group_2_max else 0)\n",
      "bids['time_group_3'] = bids.time.apply(lambda x: 1 if x >= time_group_3_min and x <= time_group_3_max else 0)\n",
      "\n",
      "def get_array_difference(x):\n",
      "    arr = np.array(x)\n",
      "    arr.sort()\n",
      "    return np.ediff1d(np.concatenate([arr[:1], arr]))\n",
      "bids['time_since_last_bid'] = bids.groupby(['auction', 'time_group'])[['time']].transform(get_array_difference)"
     ],
     "language": "python",
     "metadata": {},
     "outputs": [],
     "prompt_number": 6
    },
    {
     "cell_type": "code",
     "collapsed": false,
     "input": [
      "bids['scaled_time'] = preprocessing.StandardScaler().fit_transform(bids.time.values)\n",
      "bids['scaled_time_since_last_bid'] = preprocessing.StandardScaler().fit_transform(bids.time_since_last_bid.values)"
     ],
     "language": "python",
     "metadata": {},
     "outputs": [
      {
       "output_type": "stream",
       "stream": "stderr",
       "text": [
        "/Users/jeffrey/anaconda/envs/python3/lib/python3.4/site-packages/sklearn/utils/validation.py:498: UserWarning: StandardScaler assumes floating point values as input, got int64\n",
        "  \"got %s\" % (estimator, X.dtype))\n"
       ]
      }
     ],
     "prompt_number": 7
    },
    {
     "cell_type": "heading",
     "level": 1,
     "metadata": {},
     "source": [
      "Clean Data"
     ]
    },
    {
     "cell_type": "code",
     "collapsed": false,
     "input": [
      "bids['country'] = bids['country'].fillna('none')"
     ],
     "language": "python",
     "metadata": {},
     "outputs": [],
     "prompt_number": 8
    },
    {
     "cell_type": "heading",
     "level": 1,
     "metadata": {},
     "source": [
      "Feature Extraction"
     ]
    },
    {
     "cell_type": "code",
     "collapsed": false,
     "input": [
      "def visualize_classifiers(X, y, clfs, add_noise=False, base_plot_size=10, number_cv=5, \n",
      "                          scatter_size=200, test_size = 0.4, mesh_step=0.2):\n",
      "    number_of_classifiers = len(clfs)\n",
      "    names = ['Raw Points' if x is None else x.__class__.__name__ for x in clfs]\n",
      "    \n",
      "    figure = plt.figure(figsize=(base_plot_size, base_plot_size * number_of_classifiers)) \n",
      "\n",
      "\n",
      "    # Split train/test and prepare mesh grid for the decision boundary\n",
      "    X_train, X_test, y_train, y_test = cross_validation.train_test_split(X, y, test_size=test_size)\n",
      "\n",
      "    boundary_excess = 0.5 * (scatter_size / 20)\n",
      "    x_min, x_max = X[:, 0].min() - boundary_excess, X[:, 0].max() + boundary_excess\n",
      "    y_min, y_max = X[:, 1].min() - boundary_excess, X[:, 1].max() + boundary_excess\n",
      "    xx, yy = np.meshgrid(np.arange(x_min, x_max, mesh_step),\n",
      "                         np.arange(y_min, y_max, mesh_step))\n",
      "\n",
      "    cm = plt.cm.RdBu\n",
      "    cm_bright = ListedColormap(['#FF0000', '#0000FF'])\n",
      "\n",
      "    for i in range(number_of_classifiers):\n",
      "        ax = plt.subplot(number_of_classifiers, 1, i+1)\n",
      "\n",
      "        estimator = clfs[i]\n",
      "        if estimator is not None:\n",
      "            clf = estimator\n",
      "            clf.fit(X_train, y_train)\n",
      "\n",
      "            # Plot the decision boundary \n",
      "            if hasattr(clf, \"decision_function\"):\n",
      "                Z = clf.decision_function(np.c_[xx.ravel(), yy.ravel()])\n",
      "                prediction = clf.decision_function(X_test)\n",
      "            else:\n",
      "                Z = clf.predict_proba(np.c_[xx.ravel(), yy.ravel()])[:, 1]\n",
      "                prediction = clf.predict_proba(X_test)[:, 1]\n",
      "\n",
      "            # Put the result into a color plot\n",
      "            Z = Z.reshape(xx.shape)\n",
      "            ax.contourf(xx, yy, Z, cmap=cm, alpha=.8)\n",
      "\n",
      "            this_accuracy = clf.score(X_test, y_test)\n",
      "            cv_accuracy = cross_validation.cross_val_score(clf, X, y, cv=number_cv, n_jobs=-1)\n",
      "            cv_accuracy = ' '.join('{:.2f}'.format(x) for x in cv_accuracy)\n",
      "            cv_accuracy = 'accuracy: {:.2f} ({})'.format(this_accuracy, cv_accuracy)\n",
      "\n",
      "            this_auc_roc = metrics.roc_auc_score(y_test, prediction)\n",
      "            cv_auc_roc = cross_validation.cross_val_score(clf, X, y, cv=number_cv, scoring='roc_auc', n_jobs=-1)\n",
      "            cv_auc_roc = ' '.join('{:.2f}'.format(x) for x in cv_auc_roc)\n",
      "            cv_auc_roc = 'auc roc: {:.2f} ({})'.format(this_auc_roc, cv_auc_roc)\n",
      "\n",
      "            train_test_size = 'Size (train, test): ({}, {})'.format(X_train.shape[0], X_test.shape[0])\n",
      "\n",
      "            true_human_index = np.where(y_test == 0)[0]\n",
      "            true_robot_index = np.where(y_test > 0)[0]\n",
      "\n",
      "            predicted_human_index = np.where(prediction == 0)[0]\n",
      "            predicted_robot_index = np.where(prediction > 0)[0]\n",
      "\n",
      "            number_of_predicted_humans = len(predicted_human_index)\n",
      "            number_of_predicted_robots = len(predicted_robot_index)\n",
      "\n",
      "            number_of_humans = len(true_human_index)\n",
      "            number_of_robots = len(true_robot_index)\n",
      "\n",
      "            number_of_humans_text = 'human bidders (predicted, actual): ({}, {})'.format(\n",
      "                number_of_predicted_humans, number_of_humans)\n",
      "            number_of_robots_text = 'robot bidders (predicted, actual): ({}, {})'.format(\n",
      "                number_of_predicted_robots, number_of_robots)\n",
      "\n",
      "            number_correctly_predicted_as_robot = len([x for x in predicted_robot_index if x in true_robot_index])\n",
      "            number_incorrectly_predicted_as_robot = len([x for x in predicted_robot_index if x not in true_robot_index])\n",
      "            number_missed_robot = len([x for x in true_robot_index if x not in predicted_robot_index])\n",
      "\n",
      "\n",
      "            correctly_predicted_as_robots = 'correctly predicted as robot (TP): {} ({:.2f}%)'\n",
      "            correctly_predicted_as_robots = correctly_predicted_as_robots.format(\n",
      "                number_correctly_predicted_as_robot, \n",
      "                (100 * number_correctly_predicted_as_robot/number_of_predicted_robots\n",
      "                 if number_of_predicted_robots > 0 else float('Inf')))\n",
      "\n",
      "            incorrectly_predicted_as_robots = 'incorrectly predicted as robot (FP): {} ({:.2f}%)'\n",
      "            incorrectly_predicted_as_robots = incorrectly_predicted_as_robots.format(\n",
      "                number_incorrectly_predicted_as_robot, \n",
      "                (100 * number_incorrectly_predicted_as_robot/number_of_predicted_robots\n",
      "                 if number_of_predicted_robots > 0 else float('Inf')))\n",
      "\n",
      "            missed_robot_rate = 'robots missed (FN): {} ({:.2f}%)'\n",
      "            missed_robot_rate = missed_robot_rate.format(\n",
      "                number_missed_robot,\n",
      "                (100 * number_missed_robot/number_of_robots if number_of_robots > 0 else float('Inf')))\n",
      "\n",
      "            text_items = [cv_accuracy, cv_auc_roc, train_test_size,\n",
      "                          number_of_humans_text, number_of_robots_text,\n",
      "                          correctly_predicted_as_robots,\n",
      "                          incorrectly_predicted_as_robots,\n",
      "                          missed_robot_rate,\n",
      "                          ]\n",
      "            for j, text in enumerate(text_items):\n",
      "                if xx.max() < 35:\n",
      "                    ax.text(1.1*xx.max(), yy.max() - 5*(j+1), text, size=15, horizontalalignment='left')\n",
      "                else:\n",
      "                    ax.text(1.1*xx.max(), yy.max() - 3*(j+1), text, size=15, horizontalalignment='left')\n",
      "\n",
      "        # Plot the train/test data\n",
      "        if add_noise==True:\n",
      "            def add_noise_f(feat):\n",
      "                return [x + scatter_size * 0.02 * random.random() * pow(-1, random.randint(0, 1)) for x in feat]\n",
      "            x0, x1 = add_noise_f(X_train[:, 0]), add_noise_f(X_train[:, 1])\n",
      "            x0_train, x1_train = add_noise_f(X_test[:, 0]), add_noise_f(X_test[:, 1])\n",
      "        else:\n",
      "            x0, x1 = X_train[:, 0], X_train[:, 1]\n",
      "            x0_train, x1_train = X_test[:, 0], X_test[:, 1]\n",
      "\n",
      "        ax.scatter(x0, x1, s=scatter_size, c=y_train, cmap=cm_bright)\n",
      "        ax.scatter(x0_train, x1_train, s=scatter_size, c=y_test, cmap=cm_bright, alpha=0.6)\n",
      "\n",
      "        ax.set_xlim(xx.min(), xx.max())\n",
      "        ax.set_ylim(yy.min(), yy.max())\n",
      "        ax.set_xticks(())\n",
      "        ax.set_yticks(())\n",
      "        ax.set_title(names[i])"
     ],
     "language": "python",
     "metadata": {},
     "outputs": [],
     "prompt_number": 9
    },
    {
     "cell_type": "code",
     "collapsed": false,
     "input": [
      "# Define some CSS to control our custom labels\n",
      "css = \"\"\"\n",
      "table\n",
      "{\n",
      "  border-collapse: collapse;\n",
      "}\n",
      "th\n",
      "{\n",
      "  color: #ffffff;\n",
      "  background-color: #000000;\n",
      "}\n",
      "td\n",
      "{\n",
      "  background-color: #cccccc;\n",
      "}\n",
      "table, th, td\n",
      "{\n",
      "  font-family:Arial, Helvetica, sans-serif;\n",
      "  border: 1px solid black;\n",
      "  text-align: right;\n",
      "}\n",
      "\"\"\"\n",
      "\n",
      "def plot_auctions(auctions, this_id=None):\n",
      "    mpld3.enable_notebook()\n",
      "    number_of_auctions = len(auctions)\n",
      "    \n",
      "    number_of_columns = 2\n",
      "    number_of_rows = number_of_auctions // number_of_columns\n",
      "    number_of_rows += 1 if number_of_auctions % number_of_columns else 0\n",
      "\n",
      "    fig, ax = plt.subplots(number_of_rows, number_of_columns, figsize=(13,5 * number_of_rows))\n",
      "    fig.tight_layout(pad=0)\n",
      "    for i, auction in enumerate(auctions):\n",
      "        ii = i // number_of_columns\n",
      "        ij = i % number_of_columns\n",
      "\n",
      "        these_bids_grouped_auction = bids.query('auction == \"{}\"'.format(auction))\n",
      "\n",
      "        colors = these_bids_grouped_auction['outcome'].values\n",
      "        x = these_bids_grouped_auction.time\n",
      "\n",
      "        y = these_bids_grouped_auction.bidder_id\n",
      "        this_bidder_id_codes_map = y.unique()\n",
      "        this_bidder_id_codes_map = {this_id: i for i, this_id in enumerate(this_bidder_id_codes_map)}\n",
      "        this_number_of_bidders = max(this_bidder_id_codes_map.values()) + 1\n",
      "        y = [9 * this_bidder_id_codes_map[a] / this_number_of_bidders if a != this_id else 10 for a in y]\n",
      "\n",
      "        if number_of_rows == 1:\n",
      "            points = ax[i].scatter(x, y, c=colors, s=200, alpha=0.4, cmap=plt.cm.rainbow)\n",
      "            ax[i].set_xticks([])\n",
      "            ax[i].set_yticks([])\n",
      "        else:\n",
      "            points = ax[ii,ij].scatter(x, y, c=colors, s=200, alpha=0.4, cmap=plt.cm.rainbow)\n",
      "            ax[ii,ij].set_xticks([])\n",
      "            ax[ii,ij].set_yticks([])\n",
      "\n",
      "        labels = []\n",
      "        bid_ids = these_bids_grouped_auction.bid_id.values\n",
      "        for bid_id in bid_ids:\n",
      "            columns = ['outcome', 'price', 'time_group', 'time_since_last_bid', 'time',\n",
      "                       'device', 'country', 'ip', 'url', 'winning_bid']\n",
      "            label = these_bids_grouped_auction.ix[[bid_id], columns].T\n",
      "            label.columns = ['Bidder Id: {0}'.format(these_bids_grouped_auction.ix[[bid_id], 'bidder_id_code'].values[0])]\n",
      "            labels.append(str(label.to_html()))\n",
      "\n",
      "        tooltip = plugins.PointHTMLTooltip(points, labels, voffset=10, hoffset=10, css=css)\n",
      "        plugins.connect(fig, tooltip)"
     ],
     "language": "python",
     "metadata": {},
     "outputs": [],
     "prompt_number": 10
    },
    {
     "cell_type": "code",
     "collapsed": false,
     "input": [
      "robot_bidders = bids.query('outcome == 1').bidder_id.values\n",
      "this_id = robot_bidders[1]\n",
      "auctions = bids.query('bidder_id == \"{}\"'.format(this_id)).auction.unique().tolist()\n",
      "\n",
      "these_bids_grouped = bids.query('auction in {}'.format(auctions)).groupby('auction')\n",
      "\n",
      "grouped_bids = list(x[1] for x in these_bids_grouped)"
     ],
     "language": "python",
     "metadata": {},
     "outputs": [],
     "prompt_number": 12
    },
    {
     "cell_type": "code",
     "collapsed": false,
     "input": [
      "mpld3.disable_notebook()\n",
      "\n",
      "print('participated in {} auctions'.format(len(grouped_bids)))\n",
      "number_of_columns = 3\n",
      "number_of_auctions = len(grouped_bids)\n",
      "number_of_rows = number_of_auctions // number_of_columns\n",
      "number_of_rows += 1 if number_of_auctions % number_of_columns else 0\n",
      "\n",
      "fig, ax = plt.subplots(number_of_rows, number_of_columns, figsize=(20,5 * number_of_rows))\n",
      "\n",
      "for i, this_grouped_bids in enumerate(grouped_bids):\n",
      "    ii = i // number_of_columns\n",
      "    ij = i % number_of_columns\n",
      "    \n",
      "    x = this_grouped_bids.time\n",
      "    y = this_grouped_bids.bidder_id\n",
      "    \n",
      "    this_bidder_id_codes_map = y.unique()\n",
      "    this_bidder_id_codes_map = {this_id: i for i, this_id in enumerate(this_bidder_id_codes_map)}\n",
      "    this_number_of_bidders = max(this_bidder_id_codes_map.values()) + 1\n",
      "    y = [9 * this_bidder_id_codes_map[a] / this_number_of_bidders if a != this_id else 10 for a in y]\n",
      "    \n",
      "    colors = this_grouped_bids['outcome'].values\n",
      "    \n",
      "    points = ax[ii, ij].scatter(x, y, c=colors, s=200, alpha=0.4, cmap=plt.cm.rainbow)\n",
      "    ax[ii, ij].set_xticks([])\n",
      "    ax[ii, ij].set_yticks([])\n",
      "    ax[ii, ij].set_title(this_grouped_bids.auction.values[0])"
     ],
     "language": "python",
     "metadata": {},
     "outputs": [
      {
       "ename": "NameError",
       "evalue": "name 'grouped_bids' is not defined",
       "output_type": "pyerr",
       "traceback": [
        "\u001b[0;31m---------------------------------------------------------------------------\u001b[0m\n\u001b[0;31mNameError\u001b[0m                                 Traceback (most recent call last)",
        "\u001b[0;32m<ipython-input-18-175728c65858>\u001b[0m in \u001b[0;36m<module>\u001b[0;34m()\u001b[0m\n\u001b[1;32m      1\u001b[0m \u001b[0mmpld3\u001b[0m\u001b[0;34m.\u001b[0m\u001b[0mdisable_notebook\u001b[0m\u001b[0;34m(\u001b[0m\u001b[0;34m)\u001b[0m\u001b[0;34m\u001b[0m\u001b[0m\n\u001b[1;32m      2\u001b[0m \u001b[0;34m\u001b[0m\u001b[0m\n\u001b[0;32m----> 3\u001b[0;31m \u001b[0mprint\u001b[0m\u001b[0;34m(\u001b[0m\u001b[0;34m'participated in {} auctions'\u001b[0m\u001b[0;34m.\u001b[0m\u001b[0mformat\u001b[0m\u001b[0;34m(\u001b[0m\u001b[0mlen\u001b[0m\u001b[0;34m(\u001b[0m\u001b[0mgrouped_bids\u001b[0m\u001b[0;34m)\u001b[0m\u001b[0;34m)\u001b[0m\u001b[0;34m)\u001b[0m\u001b[0;34m\u001b[0m\u001b[0m\n\u001b[0m\u001b[1;32m      4\u001b[0m \u001b[0mnumber_of_columns\u001b[0m \u001b[0;34m=\u001b[0m \u001b[0;36m3\u001b[0m\u001b[0;34m\u001b[0m\u001b[0m\n\u001b[1;32m      5\u001b[0m \u001b[0mnumber_of_auctions\u001b[0m \u001b[0;34m=\u001b[0m \u001b[0mlen\u001b[0m\u001b[0;34m(\u001b[0m\u001b[0mgrouped_bids\u001b[0m\u001b[0;34m)\u001b[0m\u001b[0;34m\u001b[0m\u001b[0m\n",
        "\u001b[0;31mNameError\u001b[0m: name 'grouped_bids' is not defined"
       ]
      }
     ],
     "prompt_number": 18
    },
    {
     "cell_type": "code",
     "collapsed": false,
     "input": [
      "these_auctions = ['01l8f', '04tfu', '0cwrz']\n",
      "plot_auctions(these_auctions, this_id)"
     ],
     "language": "python",
     "metadata": {},
     "outputs": []
    },
    {
     "cell_type": "code",
     "collapsed": false,
     "input": [
      "fully_labeled_auctions_index = bids.groupby('auction').outcome.apply(lambda x: all(x != -1))"
     ],
     "language": "python",
     "metadata": {},
     "outputs": [],
     "prompt_number": 235
    },
    {
     "cell_type": "code",
     "collapsed": false,
     "input": [
      "fully_labeled_auctions = fully_labeled_auctions_index.index[fully_labeled_auctions_index.values].values.tolist()"
     ],
     "language": "python",
     "metadata": {},
     "outputs": [],
     "prompt_number": 236
    },
    {
     "cell_type": "code",
     "collapsed": false,
     "input": [
      "bids_fully_labeled = bids.query('auction in {}'.format(fully_labeled_auctions))"
     ],
     "language": "python",
     "metadata": {},
     "outputs": [],
     "prompt_number": 237
    },
    {
     "cell_type": "code",
     "collapsed": false,
     "input": [
      "auction_labels = bids_fully_labeled.groupby('auction').outcome.apply(lambda x: sum(x)/len(x))"
     ],
     "language": "python",
     "metadata": {},
     "outputs": [],
     "prompt_number": 238
    },
    {
     "cell_type": "code",
     "collapsed": false,
     "input": [
      "number_of_bids_by_bidders = bids_fully_labeled.groupby('auction').bidder_id.apply(lambda x: np.array(list(Counter(x).values())))"
     ],
     "language": "python",
     "metadata": {},
     "outputs": [],
     "prompt_number": 239
    },
    {
     "cell_type": "code",
     "collapsed": false,
     "input": [
      "features_for_auctions = pd.DataFrame()\n",
      "features_for_auctions['number_of_bidders'] = number_of_bids_by_bidders.apply(lambda x: sum(x))\n",
      "features_for_auctions['number_of_bidders_1'] = number_of_bids_by_bidders.apply(lambda x: sum(x <= 15))\n",
      "features_for_auctions['number_of_bidders_2'] = number_of_bids_by_bidders.apply(lambda x: sum((x > 15) & (x <= 100)))\n",
      "features_for_auctions['number_of_bidders_3'] = number_of_bids_by_bidders.apply(lambda x: sum(x > 100))"
     ],
     "language": "python",
     "metadata": {},
     "outputs": [],
     "prompt_number": 317
    },
    {
     "cell_type": "code",
     "collapsed": false,
     "input": [
      "clf = tree.DecisionTreeRegressor()\n",
      "clf.fit(features_for_auctions, auction_labels)\n",
      "print(clf.feature_importances_)\n",
      "reduced_features_for_auctions = features_for_auctions.ix[:, clf.feature_importances_ > 0.1]\n",
      "clf.score(features_for_auctions, auction_labels)"
     ],
     "language": "python",
     "metadata": {},
     "outputs": [
      {
       "output_type": "stream",
       "stream": "stdout",
       "text": [
        "[ 0.87779766  0.12110309  0.00109924  0.        ]\n"
       ]
      },
      {
       "metadata": {},
       "output_type": "pyout",
       "prompt_number": 318,
       "text": [
        "0.15372981919214668"
       ]
      }
     ],
     "prompt_number": 318
    },
    {
     "cell_type": "code",
     "collapsed": false,
     "input": [
      "features_for_auctions_scaled = preprocessing.StandardScaler().fit_transform(reduced_features_for_auctions)\n",
      "\n",
      "pca = decomposition.KernelPCA(n_components=2, kernel='rbf')\n",
      "#pca = decomposition.PCA(n_components=2)\n",
      "\n",
      "features_for_auctions_pca = pca.fit_transform(features_for_auctions_scaled)"
     ],
     "language": "python",
     "metadata": {},
     "outputs": [],
     "prompt_number": 267
    },
    {
     "cell_type": "code",
     "collapsed": false,
     "input": [
      "mpld3.disable_notebook()\n",
      "fig, ax = plt.subplots()\n",
      "\n",
      "ax.scatter(features_for_auctions_pca[:,0], features_for_auctions_pca[:,1])"
     ],
     "language": "python",
     "metadata": {},
     "outputs": [
      {
       "metadata": {},
       "output_type": "pyout",
       "prompt_number": 268,
       "text": [
        "<matplotlib.collections.PathCollection at 0x119e66a20>"
       ]
      },
      {
       "metadata": {},
       "output_type": "display_data",
       "png": "[encoded data removed]",
       "text": [
        "<matplotlib.figure.Figure at 0x119e66898>"
       ]
      }
     ],
     "prompt_number": 268
    },
    {
     "cell_type": "code",
     "collapsed": false,
     "input": [
      "these_auctions = ['jqx39']\n",
      "plot_auctions(these_auctions)"
     ],
     "language": "python",
     "metadata": {},
     "outputs": []
    },
    {
     "cell_type": "code",
     "collapsed": false,
     "input": [
      "temporal_features = bids.groupby('bidder_id')['winning_bid', 'time_group_1', 'time_group_2', 'time_group_3'].sum().values\n",
      "number_of_times_starting_auction = bids.groupby('bidder_id')['time_since_last_bid'].apply(lambda x: sum(x == 0)).values\n",
      "time_since_last_bid = bids.groupby('bidder_id')['time_since_last_bid'].mean().values"
     ],
     "language": "python",
     "metadata": {},
     "outputs": [],
     "prompt_number": 119
    },
    {
     "cell_type": "heading",
     "level": 3,
     "metadata": {},
     "source": [
      "Split on Labels"
     ]
    },
    {
     "cell_type": "code",
     "collapsed": false,
     "input": [
      "labels = grouped_categorical_features.reset_index()['bidder_id'].apply(lambda x: bidder_id_outcome_map.get(x, -1)).values\n",
      "\n",
      "train_index = np.where(labels != -1)\n",
      "test_index = np.where(labels == -1)\n",
      "features = np.column_stack([temporal_features, time_since_last_bid, number_of_times_starting_auction])\n",
      "features = preprocessing.StandardScaler().fit_transform(features)\n",
      "\n",
      "features_train = features[train_index]\n",
      "features_test = features[test_index]\n",
      "labels_train = labels[train_index]\n",
      "\n",
      "print('Feature Vectors Training: {}'.format(features_train.shape))\n",
      "print('Feature Vectors Testing: {}'.format(features_test.shape))"
     ],
     "language": "python",
     "metadata": {},
     "outputs": [
      {
       "output_type": "stream",
       "stream": "stdout",
       "text": [
        "Feature Vectors Training: (1984, 6)\n",
        "Feature Vectors Testing: (4630, 6)\n"
       ]
      }
     ],
     "prompt_number": 20
    },
    {
     "cell_type": "code",
     "collapsed": false,
     "input": [
      "X = features_train\n",
      "y = labels_train\n",
      "clfs = [tree.DecisionTreeClassifier(class_weight='auto')]\n",
      "visualize_classifiers(X[:,:2], y, clfs, base_plot_size=5)\n",
      "\n",
      "clfs = [tree.DecisionTreeClassifier(class_weight='auto')]\n",
      "visualize_classifiers(X[:,[0,1]], y, clfs, base_plot_size=5)"
     ],
     "language": "python",
     "metadata": {},
     "outputs": [
      {
       "metadata": {},
       "output_type": "display_data",
       "png": "[encoded data removed]",
       "text": [
        "<matplotlib.figure.Figure at 0x135e2a240>"
       ]
      },
      {
       "metadata": {},
       "output_type": "display_data",
       "png": "[encoded data removed]",
       "text": [
        "<matplotlib.figure.Figure at 0x135628710>"
       ]
      }
     ],
     "prompt_number": 47
    },
    {
     "cell_type": "heading",
     "level": 1,
     "metadata": {},
     "source": [
      "Run for test data"
     ]
    },
    {
     "cell_type": "code",
     "collapsed": false,
     "input": [
      "sum_value = 0\n",
      "while sum_value < 600:\n",
      "    clf = tree.DecisionTreeClassifier(class_weight='auto', max_depth=9)\n",
      "    clf.fit(features_train_lower, labels_train)\n",
      "    prediction = clf.predict_proba(features_test_lower)[:,1]\n",
      "    sum_value = sum(prediction)\n",
      "    print('Is robot: {:.2f}%'.format(100 * sum_value / len(prediction)))\n",
      "    print(sum_value)"
     ],
     "language": "python",
     "metadata": {},
     "outputs": [
      {
       "output_type": "stream",
       "stream": "stdout",
       "text": [
        "Is robot: 14.12%\n",
        "653.961952958\n"
       ]
      }
     ],
     "prompt_number": 404
    },
    {
     "cell_type": "code",
     "collapsed": false,
     "input": [
      "output = list(zip(grouped_categorical_features.index.values[test_index], prediction))\n",
      "output = pd.DataFrame(output, columns=['bidder_id', 'prediction'])\n",
      "output = output.set_index('bidder_id')\n",
      "\n",
      "nan_output = [[x, 0] for x in raw_test_data.bidder_id.unique()]\n",
      "nan_output = pd.DataFrame(nan_output, columns=['bidder_id', 'prediction'])\n",
      "nan_output = nan_output.set_index('bidder_id')\n",
      "\n",
      "output = output + nan_output\n",
      "output = output.fillna(0)\n",
      "output.to_csv('output.csv')"
     ],
     "language": "python",
     "metadata": {},
     "outputs": [],
     "prompt_number": 377
    }
   ],
   "metadata": {}
  }
 ]
}